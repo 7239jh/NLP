{
 "cells": [
  {
   "cell_type": "code",
   "execution_count": 1,
   "metadata": {},
   "outputs": [
    {
     "data": {
      "text/plain": [
       "['시사회에서 보고왔습니다동화와 재즈뮤지컬의 만남! 지루하지않고 재밌습니다',\n",
       " '사랑과 꿈, 그 흐름의 아름다움을 음악과 영상으로 최대한 담아놓았다. 배우들 연기는 두말할것없고',\n",
       " '지금껏 영화 평가 해본 적이 없는데 진짜..최고네요! 색감. 스토리.음악.연기 모두ㅜㅜ최고입니다!!!!',\n",
       " '방금 시사회 보고 왔어요~ 배우들 매력이 눈을 뗄 수가 없게 만드네요. 한편의 그림 같은 장면들도 많고, 음악과 춤이 눈과 귀를 사로 잡았어요. 한번 더 보고 싶네요.',\n",
       " '초반부터 끝까지 재미있게 잘보다가 결말에서 고국마 왕창먹음...힐링 받는 느낌들다가 막판에 기분 잡쳤습니다. 마치 감독이 하고싶은 말은 \"너희들이 원하는 결말은 이거지? 하지만 현실은 이거다!!\" 라고 말하고 싶었나보군요',\n",
       " '시사회 보고 왔어요. 꿈과 사랑에 관한 이야기인데 뭔가 진한 여운이 남는 영화예요.',\n",
       " '황홀하고 따뜻한 꿈이었어요. imax로 또 보려합니다! 좋은 영화 시사해주셔서 감사해요:)',\n",
       " '엠마스톤의 노래 솜씨도 보겠군',\n",
       " '영화는 꼭 가서 보시길 바랍니다. 소장용 가지 100%. 스페셜패키지 매진전 예매하느라 예매열리기전에 하루종일 CGV앱을 들여다본건 처음이네요.',\n",
       " '엠마는 코미디영화 배우 아님? 코미디 배우가 멜로를 ㅋㅋㅋ 목소리가 전혀 안어울리는데..']"
      ]
     },
     "execution_count": 1,
     "metadata": {},
     "output_type": "execute_result"
    }
   ],
   "source": [
    "texts=[]\n",
    "with open('D:/mycode/NLP/keyword/data/134963.txt', \"r\", encoding='utf-8') as infile:\n",
    "    for line in infile:\n",
    "        a,b=line.split('\\t')\n",
    "        texts.append(a)\n",
    "texts[:10]        \n"
   ]
  },
  {
   "cell_type": "code",
   "execution_count": 51,
   "metadata": {},
   "outputs": [
    {
     "name": "stdout",
     "output_type": "stream",
     "text": [
      "scan vocabs ... \n",
      "num vocabs = 14595\n",
      "done = 10 Early stopped.\n"
     ]
    },
    {
     "data": {
      "text/html": [
       "<div>\n",
       "<style scoped>\n",
       "    .dataframe tbody tr th:only-of-type {\n",
       "        vertical-align: middle;\n",
       "    }\n",
       "\n",
       "    .dataframe tbody tr th {\n",
       "        vertical-align: top;\n",
       "    }\n",
       "\n",
       "    .dataframe thead th {\n",
       "        text-align: right;\n",
       "    }\n",
       "</style>\n",
       "<table border=\"1\" class=\"dataframe\">\n",
       "  <thead>\n",
       "    <tr style=\"text-align: right;\">\n",
       "      <th></th>\n",
       "      <th>keyword</th>\n",
       "      <th>rank</th>\n",
       "    </tr>\n",
       "  </thead>\n",
       "  <tbody>\n",
       "    <tr>\n",
       "      <th>0</th>\n",
       "      <td>영화</td>\n",
       "      <td>187.272792</td>\n",
       "    </tr>\n",
       "    <tr>\n",
       "      <th>1</th>\n",
       "      <td>정말</td>\n",
       "      <td>45.118910</td>\n",
       "    </tr>\n",
       "    <tr>\n",
       "      <th>2</th>\n",
       "      <td>마지막</td>\n",
       "      <td>42.112113</td>\n",
       "    </tr>\n",
       "    <tr>\n",
       "      <th>3</th>\n",
       "      <td>음악</td>\n",
       "      <td>39.734163</td>\n",
       "    </tr>\n",
       "    <tr>\n",
       "      <th>4</th>\n",
       "      <td>뮤지컬</td>\n",
       "      <td>24.673319</td>\n",
       "    </tr>\n",
       "    <tr>\n",
       "      <th>5</th>\n",
       "      <td>진짜</td>\n",
       "      <td>21.609715</td>\n",
       "    </tr>\n",
       "    <tr>\n",
       "      <th>6</th>\n",
       "      <td>최고</td>\n",
       "      <td>21.183935</td>\n",
       "    </tr>\n",
       "    <tr>\n",
       "      <th>7</th>\n",
       "      <td>보고</td>\n",
       "      <td>20.811935</td>\n",
       "    </tr>\n",
       "    <tr>\n",
       "      <th>8</th>\n",
       "      <td>아름</td>\n",
       "      <td>20.559788</td>\n",
       "    </tr>\n",
       "    <tr>\n",
       "      <th>9</th>\n",
       "      <td>영상</td>\n",
       "      <td>20.070304</td>\n",
       "    </tr>\n",
       "  </tbody>\n",
       "</table>\n",
       "</div>"
      ],
      "text/plain": [
       "  keyword        rank\n",
       "0      영화  187.272792\n",
       "1      정말   45.118910\n",
       "2     마지막   42.112113\n",
       "3      음악   39.734163\n",
       "4     뮤지컬   24.673319\n",
       "5      진짜   21.609715\n",
       "6      최고   21.183935\n",
       "7      보고   20.811935\n",
       "8      아름   20.559788\n",
       "9      영상   20.070304"
      ]
     },
     "execution_count": 51,
     "metadata": {},
     "output_type": "execute_result"
    }
   ],
   "source": [
    "import pandas as pd\n",
    "from konlpy.tag import Okt\n",
    "from krwordrank.word import KRWordRank\n",
    "from krwordrank.hangle import normalize\n",
    "from krwordrank.word import summarize_with_keywords\n",
    "import re\n",
    "def regex(x):\n",
    "    \n",
    "    x=re.sub(\"\\[.*\\]|\\s-\\s.*\",'',x)\n",
    "    x=re.sub(\"\\(.*\\)|\\s-\\s.*\",'',x)\n",
    "    x=re.sub(\"\\<.*\\>|\\s-\\s.*\",'',x)\n",
    "    x=re.sub(\"\\【.*\\】|\\s-\\s.*\",'',x)\n",
    "    x= re.sub('[-=+#/\\?:^$@*\\\"※~&%ㆍ!』\\\\‘|\\(\\)\\[\\]\\<\\>`\\'…》,▷▶ⓒ]', '', x)\n",
    "    \n",
    "    return x\n",
    "\n",
    "min_count = 5  \n",
    "max_length = 100 \n",
    "verbose =True\n",
    "wordrank_extractor = KRWordRank(min_count, max_length , verbose=True)\n",
    "beta = 0.85   \n",
    "max_iter = 10\n",
    "okt = Okt()\n",
    "texts_re=[]\n",
    "for i in texts:\n",
    "    a=regex(str(i))\n",
    "    texts_re.append(a)\n",
    "keywords, rank, graph = wordrank_extractor.extract(texts_re, beta, max_iter)\n",
    "keys=[]\n",
    "ranks=[]\n",
    "for word, r in sorted(keywords.items(), key=lambda x:x[1], reverse=True):\n",
    "    o=okt.pos(str(word))\n",
    "    if len([w[0] for w in o if w[1] !='Noun'])==0:\n",
    "        keys.append(word)\n",
    "        ranks.append(r)\n",
    "    else:\n",
    "        pass\n",
    "df_wordrank=pd.DataFrame({'keyword':keys,'rank':ranks})\n",
    "df_wordrank[:10]  \n",
    "        \n",
    "        \n",
    "    \n",
    "    \n"
   ]
  }
 ],
 "metadata": {
  "kernelspec": {
   "display_name": "Python 3.9.7 ('base')",
   "language": "python",
   "name": "python3"
  },
  "language_info": {
   "codemirror_mode": {
    "name": "ipython",
    "version": 3
   },
   "file_extension": ".py",
   "mimetype": "text/x-python",
   "name": "python",
   "nbconvert_exporter": "python",
   "pygments_lexer": "ipython3",
   "version": "3.9.7"
  },
  "orig_nbformat": 4,
  "vscode": {
   "interpreter": {
    "hash": "59c86215cb6667c49c42aaf9f4968b164f63cbe3d18b8d322d177a685e6eefb7"
   }
  }
 },
 "nbformat": 4,
 "nbformat_minor": 2
}
