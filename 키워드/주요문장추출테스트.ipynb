{
 "cells": [
  {
   "cell_type": "markdown",
   "metadata": {},
   "source": [
    "## 함수"
   ]
  },
  {
   "cell_type": "code",
   "execution_count": 1,
   "metadata": {},
   "outputs": [],
   "source": [
    "import pandas as pd\n",
    "from krwordrank.word import KRWordRank\n",
    "from konlpy.tag import Kkma\n",
    "from krwordrank.hangle import normalize\n",
    "from krwordrank.word import summarize_with_keywords\n",
    "from krwordrank.sentence import summarize_with_sentences\n",
    "import re\n",
    "\n",
    "def regex(x): # 불용어 제거 및 전처리 함수\n",
    "    x= re.sub(r\"[-_x000D_]\", '', x)\n",
    "    return x\n",
    "\n",
    "\n",
    "def sent_main(path,topk,stopwords):\n",
    "    df=pd.read_excel(path)\n",
    "    text=df['본문'].tolist()\n",
    "    texts=[]\n",
    "    \n",
    "    for i in text:\n",
    "        sentences = regex(str(i)).split(\".\")\n",
    "        for sentence in sentences:\n",
    "            if sentence.strip():\n",
    "                texts.append(sentence.strip())\n",
    "                \n",
    "    texts_main=[]\n",
    "    for i in texts:\n",
    "        a=regex(str(i))\n",
    "        texts_main.append(a)\n",
    "    keywords, sents = summarize_with_sentences(texts,stopwords=stopwords, num_keywords=100, num_keysents=topk,diversity=0.5)\n",
    "    \n",
    "    setss=[]\n",
    "    for h in sents:\n",
    "        if '<!' in h:\n",
    "            pass\n",
    "        else:\n",
    "            setss.append(h)\n",
    "    return setss\n",
    "\n",
    "\n",
    "    "
   ]
  },
  {
   "cell_type": "markdown",
   "metadata": {},
   "source": [
    "## 함수실행"
   ]
  },
  {
   "cell_type": "code",
   "execution_count": 5,
   "metadata": {},
   "outputs": [
    {
     "data": {
      "text/plain": [
       "['Microsoft는 강력한 회계 4분기 실적을 보고했지만 다음 분기에 대한 약한 수익 전망과 새 회계 연도의 높은 비용에 대한 논평으로 인해 시간외거래에서 주가가 하락하였음',\n",
       " 'App Store를 포함하는 Apple의 서비스 사업은 지난 몇 년동안 빠른 속도로 수익이 증가했고, 현재 분기당 약 2억달러를 맴돌고 있음',\n",
       " 'Azure 성장은 적어도 22년3분기 이후 매 분기 순차적으로 감소했고, 기업들이 금리상승으로 자본 비용을 줄임에 따라 투자자의 관심을 유지하고 있음',\n",
       " '마이크로소프트의 주가는 지난 4분기 애저(Azure) 및 기타 클라우드 서비스 매출이 전년동기대비 26% 증가해 전분기대비 1%p 하락했다고 발표하면서 화요일밤 시간 외 거래에서 최대 4% 하락함',\n",
       " '이러한 상승 촉매 중 일부는 이미 AAPL 주식에 가격이 책정되어 있지만 애널리스트들은 계속해서 더 상승할 것으로 보고 있음',\n",
       " 'Microsoft의 회계 4분기 실적은 Azure 클라우드 매출 성장이 순차적으로 감소하여 월스트리트의 추정치를 상회한 분기별 이익과 매출을 무색하게 만들었음',\n",
       " 'Microsoft와 같은 성장 기업은주주 수익 증대의 중요성을 인식하고 있음',\n",
       " 'AppleAAPL 주식들은 공급업체에 23년에 대략 22년에 맞춰 약 85만 대의 iPhone 15를 생산할 것을 촉구했다는 보도가 나오는 가운데 월요일상승세로 거래되고 있음',\n",
       " '또한, 새로운 iPhone 출시를 앞두고 구축이 순조롭게 진행되고 있는 것으로 보이며, CY23에는 iPhone 장치가 전년대비 성장할 가능성이 있음',\n",
       " '다음 회사는 23년7월25일근무 시간 이후에 수익을 보고할 것으로 예상됨',\n",
       " 'AAPL의 1년Zacks Consensus 추정치는 주당 6달러의 수익과 3845억 2만 달러의 수익을 요구하고 있음',\n",
       " '목표가 공개되지 않았기 때문에 신원을 밝히지 말 것을 요청한 사람들은 Apple이 Pro 모델의 가격 인상을 고려하고 있기 때문에 전반적인 수익이 증가할 가능성이 있음고 말하였음',\n",
       " '새로운 보고서에 따르면 Apple은 자체 ChatGPT 스타일제품을 테스트하고 있고, 한 번의 출시로 1억 명이 넘는 사용자에게 도달할 수 있음',\n",
       " '제너럴 일렉트릭(GE)과 3M의 주가는 모두 비용 통제와 효율성 개선을 이유로 연간 수익 기대치를 높인 후 5% 이상 상승하였음']"
      ]
     },
     "execution_count": 5,
     "metadata": {},
     "output_type": "execute_result"
    }
   ],
   "source": [
    "stopwords={} # 제거하고 싶은 키워드-> 이 키워드를 가진 문장의 중요도가 낮아짐\n",
    "topk=15 # 상위 몇개 추출 할건지 -> 광고 같은 문장 제거하면 좀 더 적어질 수 있음\n",
    "path='testsample.xlsx'   # 데이터 경로 \n",
    "\n",
    "sent_main(path,topk,stopwords)    "
   ]
  },
  {
   "cell_type": "code",
   "execution_count": null,
   "metadata": {},
   "outputs": [],
   "source": []
  }
 ],
 "metadata": {
  "kernelspec": {
   "display_name": "py3.9",
   "language": "python",
   "name": "py3.9"
  },
  "language_info": {
   "codemirror_mode": {
    "name": "ipython",
    "version": 3
   },
   "file_extension": ".py",
   "mimetype": "text/x-python",
   "name": "python",
   "nbconvert_exporter": "python",
   "pygments_lexer": "ipython3",
   "version": "3.9.16"
  },
  "orig_nbformat": 4
 },
 "nbformat": 4,
 "nbformat_minor": 2
}
